{
 "cells": [
  {
   "cell_type": "code",
   "execution_count": 2,
   "metadata": {},
   "outputs": [],
   "source": [
    "import tensorflow as tf\n",
    "import os\n",
    "cwd = os.getcwd()"
   ]
  },
  {
   "cell_type": "code",
   "execution_count": 3,
   "metadata": {},
   "outputs": [
    {
     "data": {
      "text/plain": [
       "'/notebooks'"
      ]
     },
     "execution_count": 3,
     "metadata": {},
     "output_type": "execute_result"
    }
   ],
   "source": [
    "cwd"
   ]
  },
  {
   "cell_type": "code",
   "execution_count": 4,
   "metadata": {},
   "outputs": [
    {
     "data": {
      "text/plain": [
       "['1-ElectricCity.wav',\n",
       " 'recovered.wav',\n",
       " '5-Breakdance.wav',\n",
       " '9-RockYourBody.wav',\n",
       " '14-RockYourBodyBrainbugRemix.wav',\n",
       " '6-GetFreaky.wav',\n",
       " '13-PackJam.wav',\n",
       " 'before.wav',\n",
       " '10-DontStopTheRock.wav',\n",
       " '11-FunkyNation.wav',\n",
       " '16-MusicInstructorMegaMix.wav',\n",
       " '8-TechnicalLover.wav',\n",
       " 'spectrogram2.png',\n",
       " '3-LetTheMusicPlay.wav',\n",
       " '4-SuperSonic.wav',\n",
       " '2-PlanetEarth.wav',\n",
       " 'spectrogram.png',\n",
       " '15-WeAreTheRobots.wav',\n",
       " '7-JamOnIt.wav',\n",
       " '12-GalaxyJam.wav']"
      ]
     },
     "execution_count": 4,
     "metadata": {},
     "output_type": "execute_result"
    }
   ],
   "source": [
    "os.listdir('/input')"
   ]
  },
  {
   "cell_type": "code",
   "execution_count": 5,
   "metadata": {},
   "outputs": [],
   "source": [
    "import scipy.io.wavfile"
   ]
  },
  {
   "cell_type": "code",
   "execution_count": 6,
   "metadata": {},
   "outputs": [],
   "source": [
    "rate,audData=scipy.io.wavfile.read('/input/1-ElectricCity.wav')"
   ]
  },
  {
   "cell_type": "code",
   "execution_count": 7,
   "metadata": {},
   "outputs": [
    {
     "data": {
      "text/plain": [
       "4.884462585034013"
      ]
     },
     "execution_count": 7,
     "metadata": {},
     "output_type": "execute_result"
    }
   ],
   "source": [
    "audData.shape[0] / rate / 60"
   ]
  },
  {
   "cell_type": "code",
   "execution_count": 8,
   "metadata": {},
   "outputs": [],
   "source": [
    "channel1=audData[:,0] #left\n",
    "channel2=audData[:,1] #right"
   ]
  },
  {
   "cell_type": "code",
   "execution_count": 9,
   "metadata": {},
   "outputs": [
    {
     "data": {
      "text/plain": [
       "dtype('int16')"
      ]
     },
     "execution_count": 9,
     "metadata": {},
     "output_type": "execute_result"
    }
   ],
   "source": [
    "audData.dtype"
   ]
  },
  {
   "cell_type": "code",
   "execution_count": 10,
   "metadata": {},
   "outputs": [],
   "source": [
    "signal_fragment = channel1[30*rate:35*rate]"
   ]
  },
  {
   "cell_type": "markdown",
   "metadata": {},
   "source": [
    "### Create FFT"
   ]
  },
  {
   "cell_type": "code",
   "execution_count": 20,
   "metadata": {},
   "outputs": [],
   "source": [
    "import numpy as np\n",
    "import math\n",
    "from PIL import Image\n",
    "import time"
   ]
  },
  {
   "cell_type": "code",
   "execution_count": 12,
   "metadata": {},
   "outputs": [],
   "source": [
    "FFT_LENGTH = 1024\n",
    "WINDOW_LENGTH = 512\n",
    "WINDOW_STEP = int(WINDOW_LENGTH / 2)\n",
    "magnitudeMin = float(\"inf\")\n",
    "magnitudeMax = float(\"-inf\")\n",
    "phaseMin = float(\"inf\")\n",
    "phaseMax = float(\"-inf\")"
   ]
  },
  {
   "cell_type": "code",
   "execution_count": 13,
   "metadata": {},
   "outputs": [],
   "source": [
    "def amplifyMagnitudeByLog(d):\n",
    "    return 188.301 * math.log10(d + 1)\n",
    "\n",
    "def weakenAmplifiedMagnitude(d):\n",
    "    return math.pow(10, d/188.301)-1\n",
    "\n",
    "def generateLinearScale(magnitudePixels, phasePixels, \n",
    "                        magnitudeMin, magnitudeMax, phaseMin, phaseMax):\n",
    "    height = magnitudePixels.shape[0]\n",
    "    width = magnitudePixels.shape[1]\n",
    "    magnitudeRange = magnitudeMax - magnitudeMin\n",
    "    phaseRange = phaseMax - phaseMin\n",
    "    rgbArray = np.zeros((height, width, 3), 'uint8')\n",
    "    \n",
    "    for w in range(width):\n",
    "        for h in range(height):\n",
    "            magnitudePixels[h,w] = (magnitudePixels[h,w] - magnitudeMin) / (magnitudeRange) * 255 * 2\n",
    "            magnitudePixels[h,w] = amplifyMagnitudeByLog(magnitudePixels[h,w])\n",
    "            phasePixels[h,w] = (phasePixels[h,w] - phaseMin) / (phaseRange) * 255\n",
    "            red = 255 if magnitudePixels[h,w] > 255 else magnitudePixels[h,w]\n",
    "            green = (magnitudePixels[h,w] - 255) if magnitudePixels[h,w] > 255 else 0\n",
    "            blue = phasePixels[h,w]\n",
    "            rgbArray[h,w,0] = int(red)\n",
    "            rgbArray[h,w,1] = int(green)\n",
    "            rgbArray[h,w,2] = int(blue)\n",
    "    return rgbArray\n",
    "\n",
    "def recoverLinearScale(rgbArray, magnitudeMin, magnitudeMax, \n",
    "                       phaseMin, phaseMax):\n",
    "    width = rgbArray.shape[1]\n",
    "    height = rgbArray.shape[0]\n",
    "    magnitudeVals = rgbArray[:,:,0].astype(float) + rgbArray[:,:,1].astype(float)\n",
    "    phaseVals = rgbArray[:,:,2].astype(float)\n",
    "    phaseRange = phaseMax - phaseMin\n",
    "    magnitudeRange = magnitudeMax - magnitudeMin\n",
    "    for w in range(width):\n",
    "        for h in range(height):\n",
    "            phaseVals[h,w] = (phaseVals[h,w] / 255 * phaseRange) + phaseMin\n",
    "            magnitudeVals[h,w] = weakenAmplifiedMagnitude(magnitudeVals[h,w])\n",
    "            magnitudeVals[h,w] = (magnitudeVals[h,w] / (255*2) * magnitudeRange) + magnitudeMin\n",
    "    return magnitudeVals, phaseVals"
   ]
  },
  {
   "cell_type": "code",
   "execution_count": 24,
   "metadata": {},
   "outputs": [
    {
     "name": "stdout",
     "output_type": "stream",
     "text": [
      "3.34s\n"
     ]
    }
   ],
   "source": [
    "def generateSpectrogramForWave(signal):\n",
    "    start_time = time.time()\n",
    "    global magnitudeMin\n",
    "    global magnitudeMax\n",
    "    global phaseMin\n",
    "    global phaseMax\n",
    "    buffer = np.zeros(int(signal.size + WINDOW_STEP - (signal.size % WINDOW_STEP)))\n",
    "    buffer[0:len(signal)] = signal\n",
    "    height = int(FFT_LENGTH / 2 + 1)\n",
    "    width = int(len(buffer) / (WINDOW_STEP) - 1)\n",
    "    magnitudePixels = np.zeros((height, width))\n",
    "    phasePixels = np.zeros((height, width))\n",
    "\n",
    "    for w in range(width):\n",
    "        buff = np.zeros(FFT_LENGTH)\n",
    "        stepBuff = buffer[w*WINDOW_STEP:w*WINDOW_STEP + WINDOW_LENGTH]\n",
    "        # apply hanning window\n",
    "        stepBuff = stepBuff * np.hanning(WINDOW_LENGTH)\n",
    "        buff[0:len(stepBuff)] = stepBuff\n",
    "        #buff now contains windowed signal with step length and padded with zeroes to the end\n",
    "        fft = np.fft.rfft(buff)\n",
    "        for h in range(len(fft)):\n",
    "            #print(buff.shape)\n",
    "            #return\n",
    "            magnitude = math.sqrt(fft[h].real**2 + fft[h].imag**2)\n",
    "            if magnitude > magnitudeMax:\n",
    "                magnitudeMax = magnitude \n",
    "            if magnitude < magnitudeMin:\n",
    "                magnitudeMin = magnitude \n",
    "\n",
    "            phase = math.atan2(fft[h].imag, fft[h].real)\n",
    "            if phase > phaseMax:\n",
    "                phaseMax = phase\n",
    "            if phase < phaseMin:\n",
    "                phaseMin = phase\n",
    "            magnitudePixels[height-h-1,w] = magnitude\n",
    "            phasePixels[height-h-1,w] = phase\n",
    "    rgbArray = generateLinearScale(magnitudePixels, phasePixels,\n",
    "                                  magnitudeMin, magnitudeMax, phaseMin, phaseMax)\n",
    "    elapsed_time = time.time() - start_time\n",
    "    print('%.2f' % elapsed_time, 's', sep='')\n",
    "    img = Image.fromarray(rgbArray, 'RGB')\n",
    "    return img\n",
    "\n",
    "img = generateSpectrogramForWave(signal_fragment)\n",
    "scipy.io.wavfile.write(\"/input/before.wav\", rate, signal_fragment)\n",
    "img.save(\"/input/spectrogram.png\",\"PNG\")\n",
    "\n",
    "#generateSpectrogramForWave(signal_fragment)"
   ]
  },
  {
   "cell_type": "markdown",
   "metadata": {},
   "source": [
    "### Recover from png"
   ]
  },
  {
   "cell_type": "code",
   "execution_count": 346,
   "metadata": {},
   "outputs": [],
   "source": [
    "def recoverSignalFromSpectrogram(filePath):\n",
    "    img = Image.open(filePath)\n",
    "    data = np.array( img, dtype='uint8' )\n",
    "    width = data.shape[1]\n",
    "    height = data.shape[0]\n",
    "\n",
    "    magnitudeVals, phaseVals \\\n",
    "    = recoverLinearScale(data, magnitudeMin, magnitudeMax, phaseMin, phaseMax)\n",
    "    \n",
    "    recovered = np.zeros(WINDOW_LENGTH * width // 2 + WINDOW_STEP, dtype=np.int16)\n",
    "    for w in range(width):\n",
    "        toInverse = np.zeros(height, dtype=np.complex_)\n",
    "        for h in range(height):\n",
    "            magnitude = magnitudeVals[height-h-1,w]\n",
    "            phase = phaseVals[height-h-1,w]\n",
    "            toInverse[h] = magnitude * math.cos(phase) + (1j * magnitude * math.sin(phase))\n",
    "        signal = np.fft.irfft(toInverse)\n",
    "        recovered[w*WINDOW_STEP:w*WINDOW_STEP + WINDOW_LENGTH] += signal[:WINDOW_LENGTH].astype(np.int16)\n",
    "    scipy.io.wavfile.write(\"/input/recovered.wav\", rate, recovered)\n",
    "recoverSignalFromSpectrogram(\"/input/spectrogram2.png\")"
   ]
  },
  {
   "cell_type": "code",
   "execution_count": null,
   "metadata": {},
   "outputs": [],
   "source": []
  }
 ],
 "metadata": {
  "kernelspec": {
   "display_name": "Python 3",
   "language": "python",
   "name": "python3"
  },
  "language_info": {
   "codemirror_mode": {
    "name": "ipython",
    "version": 3
   },
   "file_extension": ".py",
   "mimetype": "text/x-python",
   "name": "python",
   "nbconvert_exporter": "python",
   "pygments_lexer": "ipython3",
   "version": "3.5.2"
  }
 },
 "nbformat": 4,
 "nbformat_minor": 2
}
